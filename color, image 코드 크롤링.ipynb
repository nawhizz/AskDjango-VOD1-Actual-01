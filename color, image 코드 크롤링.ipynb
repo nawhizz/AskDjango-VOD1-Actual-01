{
 "cells": [
  {
   "cell_type": "markdown",
   "metadata": {},
   "source": [
    "## Color 코드 크롤링"
   ]
  },
  {
   "cell_type": "code",
   "execution_count": 1,
   "metadata": {},
   "outputs": [],
   "source": [
    "import requests\n",
    "html = requests.get('https://dev.to/rly').text"
   ]
  },
  {
   "cell_type": "code",
   "execution_count": 3,
   "metadata": {},
   "outputs": [],
   "source": [
    "from bs4 import BeautifulSoup\n",
    "soup = BeautifulSoup(html, 'html.parser')"
   ]
  },
  {
   "cell_type": "code",
   "execution_count": 4,
   "metadata": {},
   "outputs": [
    {
     "data": {
      "text/plain": [
       "[<div class=\"color\" style=\"background-color:rgba(85,19,93,255)\">0</div>,\n",
       " <div class=\"color\" style=\"background-color:rgba(113,112,110,255)\">1</div>,\n",
       " <div class=\"color\" style=\"background-color:rgba(128,27,42,255)\">2</div>,\n",
       " <div class=\"color\" style=\"background-color:rgba(184,7,33,255)\">3</div>,\n",
       " <div class=\"color\" style=\"background-color:rgba(101,22,28,255)\">4</div>,\n",
       " <div class=\"color\" style=\"background-color:rgba(80,61,189,255)\">5</div>,\n",
       " <div class=\"color\" style=\"background-color:rgba(225,17,5,255)\">6</div>,\n",
       " <div class=\"color\" style=\"background-color:rgba(6,123,176,255)\">7</div>,\n",
       " <div class=\"color\" style=\"background-color:rgba(247,181,0,255)\">8</div>,\n",
       " <div class=\"color\" style=\"background-color:rgba(0,15,118,255)\">9</div>,\n",
       " <div class=\"color\" style=\"background-color:rgba(168,0,155,255)\">10</div>,\n",
       " <div class=\"color\" style=\"background-color:rgba(0,132,69,255)\">11</div>,\n",
       " <div class=\"color\" style=\"background-color:rgba(0,153,157,255)\">12</div>,\n",
       " <div class=\"color\" style=\"background-color:rgba(1,66,132,255)\">13</div>,\n",
       " <div class=\"color\" style=\"background-color:rgba(177,0,52,255)\">14</div>,\n",
       " <div class=\"color\" style=\"background-color:rgba(55,142,25,255)\">15</div>,\n",
       " <div class=\"color\" style=\"background-color:rgba(133,152,0,255)\">16</div>]"
      ]
     },
     "execution_count": 4,
     "metadata": {},
     "output_type": "execute_result"
    }
   ],
   "source": [
    "soup.select('.color')"
   ]
  },
  {
   "cell_type": "code",
   "execution_count": 5,
   "metadata": {},
   "outputs": [
    {
     "name": "stdout",
     "output_type": "stream",
     "text": [
      "background-color:rgba(85,19,93,255)\n",
      "background-color:rgba(113,112,110,255)\n",
      "background-color:rgba(128,27,42,255)\n",
      "background-color:rgba(184,7,33,255)\n",
      "background-color:rgba(101,22,28,255)\n",
      "background-color:rgba(80,61,189,255)\n",
      "background-color:rgba(225,17,5,255)\n",
      "background-color:rgba(6,123,176,255)\n",
      "background-color:rgba(247,181,0,255)\n",
      "background-color:rgba(0,15,118,255)\n",
      "background-color:rgba(168,0,155,255)\n",
      "background-color:rgba(0,132,69,255)\n",
      "background-color:rgba(0,153,157,255)\n",
      "background-color:rgba(1,66,132,255)\n",
      "background-color:rgba(177,0,52,255)\n",
      "background-color:rgba(55,142,25,255)\n",
      "background-color:rgba(133,152,0,255)\n"
     ]
    }
   ],
   "source": [
    "for tag in soup.select('.color'):\n",
    "    print(tag['style'])"
   ]
  },
  {
   "cell_type": "code",
   "execution_count": 6,
   "metadata": {},
   "outputs": [],
   "source": [
    "import re"
   ]
  },
  {
   "cell_type": "code",
   "execution_count": 7,
   "metadata": {},
   "outputs": [
    {
     "name": "stdout",
     "output_type": "stream",
     "text": [
      "['85', '19', '93', '255']\n",
      "['113', '112', '110', '255']\n",
      "['128', '27', '42', '255']\n",
      "['184', '7', '33', '255']\n",
      "['101', '22', '28', '255']\n",
      "['80', '61', '189', '255']\n",
      "['225', '17', '5', '255']\n",
      "['6', '123', '176', '255']\n",
      "['247', '181', '0', '255']\n",
      "['0', '15', '118', '255']\n",
      "['168', '0', '155', '255']\n",
      "['0', '132', '69', '255']\n",
      "['0', '153', '157', '255']\n",
      "['1', '66', '132', '255']\n",
      "['177', '0', '52', '255']\n",
      "['55', '142', '25', '255']\n",
      "['133', '152', '0', '255']\n"
     ]
    }
   ],
   "source": [
    "for tag in soup.select('.color'):\n",
    "    code = re.findall(r'\\d+', tag['style'])\n",
    "    print(code)"
   ]
  },
  {
   "cell_type": "code",
   "execution_count": 8,
   "metadata": {},
   "outputs": [
    {
     "name": "stdout",
     "output_type": "stream",
     "text": [
      "(85, 19, 93, 255)\n",
      "(113, 112, 110, 255)\n",
      "(128, 27, 42, 255)\n",
      "(184, 7, 33, 255)\n",
      "(101, 22, 28, 255)\n",
      "(80, 61, 189, 255)\n",
      "(225, 17, 5, 255)\n",
      "(6, 123, 176, 255)\n",
      "(247, 181, 0, 255)\n",
      "(0, 15, 118, 255)\n",
      "(168, 0, 155, 255)\n",
      "(0, 132, 69, 255)\n",
      "(0, 153, 157, 255)\n",
      "(1, 66, 132, 255)\n",
      "(177, 0, 52, 255)\n",
      "(55, 142, 25, 255)\n",
      "(133, 152, 0, 255)\n"
     ]
    }
   ],
   "source": [
    "for tag in soup.select('.color'):\n",
    "    code = tuple(map(int, re.findall(r'\\d+', tag['style'])))\n",
    "    print(code)"
   ]
  },
  {
   "cell_type": "markdown",
   "metadata": {},
   "source": [
    "## 이미지 파일 크롤링"
   ]
  },
  {
   "cell_type": "code",
   "execution_count": 9,
   "metadata": {},
   "outputs": [
    {
     "name": "stdout",
     "output_type": "stream",
     "text": [
      "https://practicaldev-herokuapp-com.freetls.fastly.net/assets/1-8cc06d9354366518fee49f4dc36d3e715ad63278e1c05cb7419ee9237b979cfa.png\n",
      "https://practicaldev-herokuapp-com.freetls.fastly.net/assets/2-330d1c1f3c64cc79c5fe78deed7957ec7b8e3fd28ee7a7186affdeaf5bf8afef.png\n",
      "https://practicaldev-herokuapp-com.freetls.fastly.net/assets/3-22aff97b3d23ebdad7e63a5d39b9ca8c62bd00f577ceb733e38ab5cb884d771d.png\n",
      "https://practicaldev-herokuapp-com.freetls.fastly.net/assets/4-75bbdf77dd44779a38226335a81531e9e532ac6e000ab7a468c0607dc9910798.png\n",
      "https://practicaldev-herokuapp-com.freetls.fastly.net/assets/5-7a6281d4217ffa093789443d652cacd90a65bd0359bd7508bcae318217042860.png\n",
      "https://practicaldev-herokuapp-com.freetls.fastly.net/assets/6-6b4bae2bd740e229abf5566ab94a4b67856beb3f3bb9e82cc8d2b9552d6e8a7b.png\n",
      "https://practicaldev-herokuapp-com.freetls.fastly.net/assets/7-f66ad438f639dc0c5dc5cbf8dc1bb7d364d6ec227924ea7b9fdaacb3b9a1a985.png\n",
      "https://practicaldev-herokuapp-com.freetls.fastly.net/assets/8-8115e9ef0ebdecbe50ca0499767cc5e4b8b25db7f378e17a50b3947bb20d30dc.png\n",
      "https://practicaldev-herokuapp-com.freetls.fastly.net/assets/9-aa2b0b7a0fc601bdfc04dab02550dfc628d9cc58f8886ec11378292c235de0d1.png\n",
      "https://practicaldev-herokuapp-com.freetls.fastly.net/assets/10-c3d6d18c253d55ac09e74c8bfaf8416cb9fb508d6a106c22b83531b680bbaf42.png\n",
      "https://practicaldev-herokuapp-com.freetls.fastly.net/assets/11-4234788c72f559f755f9fc626421e706a2980c3a591314deeb86123ae30a555e.png\n",
      "https://practicaldev-herokuapp-com.freetls.fastly.net/assets/12-e55f1c9b35ed512430931d4c8a4233d21da322ffde0744ddce1b6e869b4f8599.png\n",
      "https://practicaldev-herokuapp-com.freetls.fastly.net/assets/13-3b130acedbd93e772ec9b75c9e5ce459ccf622d97cc6a47e4d9b47ad89777a3f.png\n",
      "https://practicaldev-herokuapp-com.freetls.fastly.net/assets/14-3c923b2f1a47c2db6b1d030ded508cd3ce7df13a6f37237192167b1be34d47f0.png\n",
      "https://practicaldev-herokuapp-com.freetls.fastly.net/assets/15-045084a4afa1bec1912fdecf1deb1918af849228468907bb94453893962c548f.png\n",
      "https://practicaldev-herokuapp-com.freetls.fastly.net/assets/16-3b8064412cf6dd8c475606690d7ac49389112f521edd25f476d0420e4bb55e65.png\n",
      "https://practicaldev-herokuapp-com.freetls.fastly.net/assets/17-c59209519562e3bf1077637937195121a3d34dd8030d080a01a4fcf2e57eea37.png\n",
      "https://practicaldev-herokuapp-com.freetls.fastly.net/assets/18-fc341ea4da46ee1f9a095d180a28a379d820e4c886555553ed587e613297b31b.png\n",
      "https://practicaldev-herokuapp-com.freetls.fastly.net/assets/19-6f8c91e1c72e5ab7969025166958d10411a5762faf5456ca803ee583a5683cb1.png\n",
      "https://practicaldev-herokuapp-com.freetls.fastly.net/assets/20-e9138b69dff1c2d6ad4af0dfb605569f234743ef3366034e9c8704daab4f5240.png\n",
      "https://practicaldev-herokuapp-com.freetls.fastly.net/assets/21-05bf190289a8d0db1760f5f4225326659a077de4dbd301d01a2a4b70a512d5bf.png\n",
      "https://practicaldev-herokuapp-com.freetls.fastly.net/assets/22-4580124ab1989a374fd7e1038d395c26cb83ee2622db77b0f3c503490361e500.png\n",
      "https://practicaldev-herokuapp-com.freetls.fastly.net/assets/23-5ec8e6abe67233b4eeead7640f862ca6f4dcda96c1073f2dc7180646c486d5be.png\n",
      "https://practicaldev-herokuapp-com.freetls.fastly.net/assets/24-0206ac1e703ace4047b901634b14277707ef3df28664323f261c78fd3968fec6.png\n",
      "https://practicaldev-herokuapp-com.freetls.fastly.net/assets/25-38fe0f870507051c12b230831c6a939c99d9c4acc7b20b746803f8a7229747d6.png\n",
      "https://practicaldev-herokuapp-com.freetls.fastly.net/assets/26-32a0f75361c205fd7339cb2c6e338516772c70b9117c2b2ea666ef8c9a16fbde.png\n",
      "https://practicaldev-herokuapp-com.freetls.fastly.net/assets/27-5b6bf4cdf1e228393a787ee9b048c5c3eba7d22ca2e6515e7244fd11cf8faf08.png\n",
      "https://practicaldev-herokuapp-com.freetls.fastly.net/assets/28-c883ab01dd1ca0e81c3b0dc04e575654268e66f833cf06fb553bdaabf916c0f2.png\n",
      "https://practicaldev-herokuapp-com.freetls.fastly.net/assets/29-2e51f7b45136e5fd398c8ed3a29b448d4468544dcdf51005d1cf1f8a3c6bf05c.png\n",
      "https://practicaldev-herokuapp-com.freetls.fastly.net/assets/30-30f9afec89dc2dd8ca458cdba20a5479313d4653994ff592468649fbe6b8a95f.png\n",
      "https://practicaldev-herokuapp-com.freetls.fastly.net/assets/31-64a7e5b4b6db1c387bd0043d0b6ae39349921895afee06860bb2821f88ab1ed2.png\n",
      "https://practicaldev-herokuapp-com.freetls.fastly.net/assets/32-4c8d3d357ee7e5af24d6bfb332a440130afc5c510b742e579e23e1f9fcfb999a.png\n",
      "https://practicaldev-herokuapp-com.freetls.fastly.net/assets/33-e9ab3433b994ed1353b3f9967ca74e728cb7175295dc3dd436e9452bd1d01b7e.png\n",
      "https://practicaldev-herokuapp-com.freetls.fastly.net/assets/34-7853eb59bedcb675907942049e2dae697a07d366c8793228ab618eef3d12b13a.png\n",
      "https://practicaldev-herokuapp-com.freetls.fastly.net/assets/35-742710dd088e74e14ae78dc0e17a09751945214eb6d2bdb03e09bf046cbe1449.png\n",
      "https://practicaldev-herokuapp-com.freetls.fastly.net/assets/36-ea0475eb85bcf585245d3ad499931f583f98fc266badb05c7d3cea59f4b618c6.png\n",
      "https://practicaldev-herokuapp-com.freetls.fastly.net/assets/37-fb184749910f4dfc3b2d586c9ea0667bafbe71fe57441b1c746ccef8f12df789.png\n",
      "https://practicaldev-herokuapp-com.freetls.fastly.net/assets/38-67a34cc644bb77a252278e0cf3b5e7d711e55817f483c58146586d9bafaaae7f.png\n",
      "https://practicaldev-herokuapp-com.freetls.fastly.net/assets/39-133d8eb4ffc7edf1f55d9aa33d35b5f04421b5b709aa31dd2b18989a30b0405d.png\n",
      "https://practicaldev-herokuapp-com.freetls.fastly.net/assets/40-a3ff9a15cfd7d41860c04b3e9fca4b8e4fb41ded4bc3481b7cf23b762dbdaceb.png\n"
     ]
    }
   ],
   "source": [
    "for tag in soup.select('.animal img'):\n",
    "    print(tag['src'])"
   ]
  },
  {
   "cell_type": "code",
   "execution_count": 10,
   "metadata": {},
   "outputs": [
    {
     "name": "stdout",
     "output_type": "stream",
     "text": [
      "78525 bytes\n",
      "56070 bytes\n",
      "56710 bytes\n",
      "63420 bytes\n",
      "51284 bytes\n",
      "49260 bytes\n",
      "61771 bytes\n",
      "47104 bytes\n",
      "35406 bytes\n",
      "38785 bytes\n",
      "50292 bytes\n",
      "44080 bytes\n",
      "36040 bytes\n",
      "32743 bytes\n",
      "28730 bytes\n",
      "60005 bytes\n",
      "48193 bytes\n",
      "26465 bytes\n",
      "16967 bytes\n",
      "83044 bytes\n",
      "51262 bytes\n",
      "51286 bytes\n",
      "62658 bytes\n",
      "45440 bytes\n",
      "53451 bytes\n",
      "66973 bytes\n",
      "46176 bytes\n",
      "56072 bytes\n",
      "36732 bytes\n",
      "57868 bytes\n",
      "34010 bytes\n",
      "27033 bytes\n",
      "49383 bytes\n",
      "46422 bytes\n",
      "41254 bytes\n",
      "60863 bytes\n",
      "53463 bytes\n",
      "57807 bytes\n",
      "72061 bytes\n",
      "46991 bytes\n"
     ]
    }
   ],
   "source": [
    "for idx, tag in enumerate(soup.select('.animal img'), 1):\n",
    "    image_url = tag['src']\n",
    "    image_data = requests.get(image_url).content\n",
    "    image_name = '{}.png'.format(idx)\n",
    "    with open(image_name, 'wb') as f:\n",
    "        f.write(image_data)\n",
    "        print('{} bytes'.format(len(image_data)))\n"
   ]
  },
  {
   "cell_type": "code",
   "execution_count": 2,
   "metadata": {},
   "outputs": [
    {
     "name": "stdout",
     "output_type": "stream",
     "text": [
      " D 드라이브의 볼륨: Data\n",
      " 볼륨 일련 번호: 4014-3023\n",
      "\n",
      " D:\\dev\\AskDjango-VOD1-Actual-01 디렉터리\n",
      "\n",
      "2019-03-24  오후 12:49    <DIR>          .\n",
      "2019-03-24  오후 12:49    <DIR>          ..\n",
      "2019-03-23  오후 03:33                60 .gitignore\n",
      "2019-03-24  오후 12:28    <DIR>          .ipynb_checkpoints\n",
      "2019-03-23  오후 06:22    <DIR>          assets\n",
      "2019-03-24  오후 12:41            17,251 color, image 코드 크롤링.ipynb\n",
      "2019-03-24  오후 12:35    <DIR>          cover\n",
      "2019-03-23  오후 03:30           131,072 db.sqlite3\n",
      "2019-03-23  오후 03:27               626 manage.py\n",
      "2019-03-23  오후 03:29    <DIR>          orly\n",
      "2019-03-24  오후 12:49               180 README.md\n",
      "2019-03-23  오후 03:44    <DIR>          reqs\n",
      "2019-03-23  오후 03:46                17 requirements.txt\n",
      "               6개 파일             149,206 바이트\n",
      "               7개 디렉터리  51,305,127,936 바이트 남음\n"
     ]
    }
   ],
   "source": [
    "%ls"
   ]
  }
 ],
 "metadata": {
  "kernelspec": {
   "display_name": "Django Shell-Plus",
   "language": "python",
   "name": "django_extensions"
  },
  "language_info": {
   "codemirror_mode": {
    "name": "ipython",
    "version": 3
   },
   "file_extension": ".py",
   "mimetype": "text/x-python",
   "name": "python",
   "nbconvert_exporter": "python",
   "pygments_lexer": "ipython3",
   "version": "3.7.2"
  }
 },
 "nbformat": 4,
 "nbformat_minor": 2
}
